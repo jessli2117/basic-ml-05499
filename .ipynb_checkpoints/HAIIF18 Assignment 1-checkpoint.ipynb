{
 "cells": [
  {
   "cell_type": "markdown",
   "metadata": {},
   "source": [
    "# Assignment 1: Intro to ML classifiers using scikit and Jupyter Notebook"
   ]
  },
  {
   "cell_type": "markdown",
   "metadata": {},
   "source": [
    "The following is the remainder of A1. Please edit this notebook so you complete the assigned tasks and answer the assigned questions.\n",
    "\n",
    "If you haven't used Jupyter Notebooks before, a good first step for you would be to take the User Interface Tour in the Help menu. You can put code in any cell in this notebook and run it. Some of the cells are currently set to be \"Markdown\" cells, which basically means they're for text, headings, etc. This cell is a markdown cell. Cells can be changed from code cells to markdown cells in the Cell menu -> Cell Type. You won't need to do anything with markdown for this assignment, but if you want to learn about it [here](https://github.com/adam-p/markdown-here/wiki/Markdown-Cheatsheet) is a cheat sheet for the types of things you can type in a markdown cell and what they will output.\n",
    "\n",
    "You can run a cell by typing Shift+Enter, and you can rerun individual cells whenever you like. Try running the following cell:"
   ]
  },
  {
   "cell_type": "code",
   "execution_count": 1,
   "metadata": {},
   "outputs": [
    {
     "name": "stdout",
     "output_type": "stream",
     "text": [
      "Hello World!\n"
     ]
    }
   ],
   "source": [
    "print (\"Hello World!\")"
   ]
  },
  {
   "cell_type": "markdown",
   "metadata": {},
   "source": [
    "Unlike in many other environments, Jupyter Notebooks will remember what you set variables to even after the code has finished running (until you clear outputs or change the variable in some way). The following code will find the current time when you run it:"
   ]
  },
  {
   "cell_type": "code",
   "execution_count": 2,
   "metadata": {
    "scrolled": true
   },
   "outputs": [
    {
     "name": "stdout",
     "output_type": "stream",
     "text": [
      "time.struct_time(tm_year=2018, tm_mon=9, tm_mday=19, tm_hour=3, tm_min=50, tm_sec=5, tm_wday=2, tm_yday=262, tm_isdst=0)\n"
     ]
    }
   ],
   "source": [
    "import time\n",
    "current_time = time.gmtime()\n",
    "print (current_time)"
   ]
  },
  {
   "cell_type": "markdown",
   "metadata": {},
   "source": [
    "If you print current_time in another cell later on, it will keep the value from when you originally set it. If you go back and rerun the above code, it will update."
   ]
  },
  {
   "cell_type": "code",
   "execution_count": 3,
   "metadata": {
    "scrolled": true
   },
   "outputs": [
    {
     "name": "stdout",
     "output_type": "stream",
     "text": [
      "time.struct_time(tm_year=2018, tm_mon=9, tm_mday=19, tm_hour=3, tm_min=50, tm_sec=5, tm_wday=2, tm_yday=262, tm_isdst=0)\n"
     ]
    }
   ],
   "source": [
    "# For example\n",
    "print (current_time)"
   ]
  },
  {
   "cell_type": "markdown",
   "metadata": {},
   "source": [
    "You do have to be careful about this if you run something later on in your code and then come back to an earlier part because variables may not have the values you expect at that point in the code. The following three blocks of code would always print out 1 if you ran them consecutively in regular code, but if you run them backwards in this notebook, you'll get an output of 2. Feel free to try:"
   ]
  },
  {
   "cell_type": "code",
   "execution_count": 4,
   "metadata": {},
   "outputs": [],
   "source": [
    "a = 1"
   ]
  },
  {
   "cell_type": "code",
   "execution_count": 5,
   "metadata": {},
   "outputs": [
    {
     "name": "stdout",
     "output_type": "stream",
     "text": [
      "1\n"
     ]
    }
   ],
   "source": [
    "print (a)"
   ]
  },
  {
   "cell_type": "code",
   "execution_count": 6,
   "metadata": {},
   "outputs": [],
   "source": [
    "a = 2"
   ]
  },
  {
   "cell_type": "markdown",
   "metadata": {},
   "source": [
    "You'll be working with all of the files in the assignment folder. It's easiest for all of your files for this assignment to be in the working directory. You can list the working directory with the \"%pwd\" command and the files in it with the \"%ls% command."
   ]
  },
  {
   "cell_type": "code",
   "execution_count": 7,
   "metadata": {
    "scrolled": true
   },
   "outputs": [
    {
     "data": {
      "text/plain": [
       "'/Users/jessli/Documents/05-499/a1'"
      ]
     },
     "execution_count": 7,
     "metadata": {},
     "output_type": "execute_result"
    }
   ],
   "source": [
    "%pwd"
   ]
  },
  {
   "cell_type": "code",
   "execution_count": 8,
   "metadata": {},
   "outputs": [
    {
     "name": "stdout",
     "output_type": "stream",
     "text": [
      "\u001b[31mHAIIF18 A1.docx\u001b[m\u001b[m*            \u001b[31mloantrainingdata.csv\u001b[m\u001b[m*\r\n",
      "\u001b[31mHAIIF18 Assignment 1.ipynb\u001b[m\u001b[m* \u001b[31mpredictiondata.csv\u001b[m\u001b[m*\r\n",
      "jli6_haiif18a1.html         \u001b[31mvariables.rtf\u001b[m\u001b[m*\r\n",
      "\u001b[31mloantestset.csv\u001b[m\u001b[m*\r\n"
     ]
    }
   ],
   "source": [
    "%ls"
   ]
  },
  {
   "cell_type": "markdown",
   "metadata": {},
   "source": [
    "The \"%ls\" command should show you the three .csv data files, the .txt variable explanations files, and this jupyter notebook. If it doesn't, you may need to move those files to the working directory manually or change the working directory.\n",
    "\n",
    "Next we have to actually import the training data. We'll do this using pandas and numpy."
   ]
  },
  {
   "cell_type": "code",
   "execution_count": 9,
   "metadata": {},
   "outputs": [],
   "source": [
    "import pandas\n",
    "import numpy\n",
    "import sklearn\n",
    "import scipy\n",
    "import matplotlib"
   ]
  },
  {
   "cell_type": "markdown",
   "metadata": {},
   "source": [
    "The code below will import the .csv as a dataframe type object, which we need it to be in to clean it a bit. It will then get rid of the non-numeric columns (in this case the \"Loan_ID\" field) because we need our data to be numeric to run the classifier."
   ]
  },
  {
   "cell_type": "code",
   "execution_count": 10,
   "metadata": {},
   "outputs": [],
   "source": [
    "trainingdata = pandas.read_csv(\"loantrainingdata.csv\", header = 0)\n",
    "trainingdata = trainingdata._get_numeric_data()"
   ]
  },
  {
   "cell_type": "code",
   "execution_count": 11,
   "metadata": {
    "scrolled": true
   },
   "outputs": [
    {
     "data": {
      "text/html": [
       "<div>\n",
       "<style scoped>\n",
       "    .dataframe tbody tr th:only-of-type {\n",
       "        vertical-align: middle;\n",
       "    }\n",
       "\n",
       "    .dataframe tbody tr th {\n",
       "        vertical-align: top;\n",
       "    }\n",
       "\n",
       "    .dataframe thead th {\n",
       "        text-align: right;\n",
       "    }\n",
       "</style>\n",
       "<table border=\"1\" class=\"dataframe\">\n",
       "  <thead>\n",
       "    <tr style=\"text-align: right;\">\n",
       "      <th></th>\n",
       "      <th>Gender</th>\n",
       "      <th>Married</th>\n",
       "      <th>Dependents</th>\n",
       "      <th>Education</th>\n",
       "      <th>Self_Employed</th>\n",
       "      <th>ApplicantIncome</th>\n",
       "      <th>CoapplicantIncome</th>\n",
       "      <th>LoanAmount</th>\n",
       "      <th>Loan_Amount_Term</th>\n",
       "      <th>Credit_History</th>\n",
       "      <th>Urban</th>\n",
       "      <th>Semiurban</th>\n",
       "      <th>Rural</th>\n",
       "      <th>Loan_Status</th>\n",
       "    </tr>\n",
       "  </thead>\n",
       "  <tbody>\n",
       "    <tr>\n",
       "      <th>0</th>\n",
       "      <td>0.0</td>\n",
       "      <td>1.0</td>\n",
       "      <td>0.0</td>\n",
       "      <td>1</td>\n",
       "      <td>1.0</td>\n",
       "      <td>5849</td>\n",
       "      <td>0.0</td>\n",
       "      <td>NaN</td>\n",
       "      <td>360.0</td>\n",
       "      <td>1.0</td>\n",
       "      <td>1</td>\n",
       "      <td>0</td>\n",
       "      <td>0</td>\n",
       "      <td>1</td>\n",
       "    </tr>\n",
       "    <tr>\n",
       "      <th>1</th>\n",
       "      <td>0.0</td>\n",
       "      <td>1.0</td>\n",
       "      <td>1.0</td>\n",
       "      <td>1</td>\n",
       "      <td>1.0</td>\n",
       "      <td>4583</td>\n",
       "      <td>1508.0</td>\n",
       "      <td>128.0</td>\n",
       "      <td>360.0</td>\n",
       "      <td>1.0</td>\n",
       "      <td>0</td>\n",
       "      <td>0</td>\n",
       "      <td>1</td>\n",
       "      <td>0</td>\n",
       "    </tr>\n",
       "    <tr>\n",
       "      <th>2</th>\n",
       "      <td>0.0</td>\n",
       "      <td>1.0</td>\n",
       "      <td>0.0</td>\n",
       "      <td>1</td>\n",
       "      <td>1.0</td>\n",
       "      <td>3000</td>\n",
       "      <td>0.0</td>\n",
       "      <td>66.0</td>\n",
       "      <td>360.0</td>\n",
       "      <td>1.0</td>\n",
       "      <td>1</td>\n",
       "      <td>0</td>\n",
       "      <td>0</td>\n",
       "      <td>1</td>\n",
       "    </tr>\n",
       "    <tr>\n",
       "      <th>3</th>\n",
       "      <td>0.0</td>\n",
       "      <td>1.0</td>\n",
       "      <td>0.0</td>\n",
       "      <td>0</td>\n",
       "      <td>1.0</td>\n",
       "      <td>2583</td>\n",
       "      <td>2358.0</td>\n",
       "      <td>120.0</td>\n",
       "      <td>360.0</td>\n",
       "      <td>1.0</td>\n",
       "      <td>1</td>\n",
       "      <td>0</td>\n",
       "      <td>0</td>\n",
       "      <td>1</td>\n",
       "    </tr>\n",
       "    <tr>\n",
       "      <th>4</th>\n",
       "      <td>0.0</td>\n",
       "      <td>1.0</td>\n",
       "      <td>0.0</td>\n",
       "      <td>1</td>\n",
       "      <td>1.0</td>\n",
       "      <td>6000</td>\n",
       "      <td>0.0</td>\n",
       "      <td>141.0</td>\n",
       "      <td>360.0</td>\n",
       "      <td>1.0</td>\n",
       "      <td>1</td>\n",
       "      <td>0</td>\n",
       "      <td>0</td>\n",
       "      <td>1</td>\n",
       "    </tr>\n",
       "    <tr>\n",
       "      <th>5</th>\n",
       "      <td>0.0</td>\n",
       "      <td>1.0</td>\n",
       "      <td>2.0</td>\n",
       "      <td>1</td>\n",
       "      <td>1.0</td>\n",
       "      <td>5417</td>\n",
       "      <td>4196.0</td>\n",
       "      <td>267.0</td>\n",
       "      <td>360.0</td>\n",
       "      <td>1.0</td>\n",
       "      <td>1</td>\n",
       "      <td>0</td>\n",
       "      <td>0</td>\n",
       "      <td>1</td>\n",
       "    </tr>\n",
       "    <tr>\n",
       "      <th>6</th>\n",
       "      <td>0.0</td>\n",
       "      <td>1.0</td>\n",
       "      <td>0.0</td>\n",
       "      <td>0</td>\n",
       "      <td>1.0</td>\n",
       "      <td>2333</td>\n",
       "      <td>1516.0</td>\n",
       "      <td>95.0</td>\n",
       "      <td>360.0</td>\n",
       "      <td>1.0</td>\n",
       "      <td>1</td>\n",
       "      <td>0</td>\n",
       "      <td>0</td>\n",
       "      <td>1</td>\n",
       "    </tr>\n",
       "    <tr>\n",
       "      <th>7</th>\n",
       "      <td>0.0</td>\n",
       "      <td>1.0</td>\n",
       "      <td>3.5</td>\n",
       "      <td>1</td>\n",
       "      <td>1.0</td>\n",
       "      <td>3036</td>\n",
       "      <td>2504.0</td>\n",
       "      <td>158.0</td>\n",
       "      <td>360.0</td>\n",
       "      <td>0.0</td>\n",
       "      <td>0</td>\n",
       "      <td>1</td>\n",
       "      <td>0</td>\n",
       "      <td>0</td>\n",
       "    </tr>\n",
       "    <tr>\n",
       "      <th>8</th>\n",
       "      <td>0.0</td>\n",
       "      <td>1.0</td>\n",
       "      <td>2.0</td>\n",
       "      <td>1</td>\n",
       "      <td>1.0</td>\n",
       "      <td>4006</td>\n",
       "      <td>1526.0</td>\n",
       "      <td>168.0</td>\n",
       "      <td>360.0</td>\n",
       "      <td>1.0</td>\n",
       "      <td>1</td>\n",
       "      <td>0</td>\n",
       "      <td>0</td>\n",
       "      <td>1</td>\n",
       "    </tr>\n",
       "    <tr>\n",
       "      <th>9</th>\n",
       "      <td>0.0</td>\n",
       "      <td>1.0</td>\n",
       "      <td>1.0</td>\n",
       "      <td>1</td>\n",
       "      <td>1.0</td>\n",
       "      <td>12841</td>\n",
       "      <td>10968.0</td>\n",
       "      <td>349.0</td>\n",
       "      <td>360.0</td>\n",
       "      <td>1.0</td>\n",
       "      <td>0</td>\n",
       "      <td>1</td>\n",
       "      <td>0</td>\n",
       "      <td>0</td>\n",
       "    </tr>\n",
       "    <tr>\n",
       "      <th>10</th>\n",
       "      <td>0.0</td>\n",
       "      <td>1.0</td>\n",
       "      <td>2.0</td>\n",
       "      <td>1</td>\n",
       "      <td>1.0</td>\n",
       "      <td>3200</td>\n",
       "      <td>700.0</td>\n",
       "      <td>70.0</td>\n",
       "      <td>360.0</td>\n",
       "      <td>1.0</td>\n",
       "      <td>1</td>\n",
       "      <td>0</td>\n",
       "      <td>0</td>\n",
       "      <td>1</td>\n",
       "    </tr>\n",
       "    <tr>\n",
       "      <th>11</th>\n",
       "      <td>0.0</td>\n",
       "      <td>1.0</td>\n",
       "      <td>2.0</td>\n",
       "      <td>1</td>\n",
       "      <td>NaN</td>\n",
       "      <td>2500</td>\n",
       "      <td>1840.0</td>\n",
       "      <td>109.0</td>\n",
       "      <td>360.0</td>\n",
       "      <td>1.0</td>\n",
       "      <td>1</td>\n",
       "      <td>0</td>\n",
       "      <td>0</td>\n",
       "      <td>1</td>\n",
       "    </tr>\n",
       "    <tr>\n",
       "      <th>12</th>\n",
       "      <td>0.0</td>\n",
       "      <td>1.0</td>\n",
       "      <td>2.0</td>\n",
       "      <td>1</td>\n",
       "      <td>1.0</td>\n",
       "      <td>3073</td>\n",
       "      <td>8106.0</td>\n",
       "      <td>200.0</td>\n",
       "      <td>360.0</td>\n",
       "      <td>1.0</td>\n",
       "      <td>1</td>\n",
       "      <td>0</td>\n",
       "      <td>0</td>\n",
       "      <td>1</td>\n",
       "    </tr>\n",
       "    <tr>\n",
       "      <th>13</th>\n",
       "      <td>0.0</td>\n",
       "      <td>1.0</td>\n",
       "      <td>0.0</td>\n",
       "      <td>1</td>\n",
       "      <td>1.0</td>\n",
       "      <td>1853</td>\n",
       "      <td>2840.0</td>\n",
       "      <td>114.0</td>\n",
       "      <td>360.0</td>\n",
       "      <td>1.0</td>\n",
       "      <td>0</td>\n",
       "      <td>0</td>\n",
       "      <td>1</td>\n",
       "      <td>0</td>\n",
       "    </tr>\n",
       "    <tr>\n",
       "      <th>14</th>\n",
       "      <td>0.0</td>\n",
       "      <td>1.0</td>\n",
       "      <td>2.0</td>\n",
       "      <td>1</td>\n",
       "      <td>1.0</td>\n",
       "      <td>1299</td>\n",
       "      <td>1086.0</td>\n",
       "      <td>17.0</td>\n",
       "      <td>120.0</td>\n",
       "      <td>1.0</td>\n",
       "      <td>1</td>\n",
       "      <td>0</td>\n",
       "      <td>0</td>\n",
       "      <td>1</td>\n",
       "    </tr>\n",
       "    <tr>\n",
       "      <th>15</th>\n",
       "      <td>0.0</td>\n",
       "      <td>1.0</td>\n",
       "      <td>0.0</td>\n",
       "      <td>1</td>\n",
       "      <td>1.0</td>\n",
       "      <td>4950</td>\n",
       "      <td>0.0</td>\n",
       "      <td>125.0</td>\n",
       "      <td>360.0</td>\n",
       "      <td>1.0</td>\n",
       "      <td>1</td>\n",
       "      <td>0</td>\n",
       "      <td>0</td>\n",
       "      <td>1</td>\n",
       "    </tr>\n",
       "    <tr>\n",
       "      <th>16</th>\n",
       "      <td>0.0</td>\n",
       "      <td>1.0</td>\n",
       "      <td>1.0</td>\n",
       "      <td>0</td>\n",
       "      <td>1.0</td>\n",
       "      <td>3596</td>\n",
       "      <td>0.0</td>\n",
       "      <td>100.0</td>\n",
       "      <td>240.0</td>\n",
       "      <td>NaN</td>\n",
       "      <td>1</td>\n",
       "      <td>0</td>\n",
       "      <td>0</td>\n",
       "      <td>1</td>\n",
       "    </tr>\n",
       "    <tr>\n",
       "      <th>17</th>\n",
       "      <td>1.0</td>\n",
       "      <td>1.0</td>\n",
       "      <td>0.0</td>\n",
       "      <td>1</td>\n",
       "      <td>1.0</td>\n",
       "      <td>3510</td>\n",
       "      <td>0.0</td>\n",
       "      <td>76.0</td>\n",
       "      <td>360.0</td>\n",
       "      <td>0.0</td>\n",
       "      <td>1</td>\n",
       "      <td>0</td>\n",
       "      <td>0</td>\n",
       "      <td>0</td>\n",
       "    </tr>\n",
       "    <tr>\n",
       "      <th>18</th>\n",
       "      <td>0.0</td>\n",
       "      <td>1.0</td>\n",
       "      <td>0.0</td>\n",
       "      <td>0</td>\n",
       "      <td>1.0</td>\n",
       "      <td>4887</td>\n",
       "      <td>0.0</td>\n",
       "      <td>133.0</td>\n",
       "      <td>360.0</td>\n",
       "      <td>1.0</td>\n",
       "      <td>0</td>\n",
       "      <td>0</td>\n",
       "      <td>1</td>\n",
       "      <td>0</td>\n",
       "    </tr>\n",
       "    <tr>\n",
       "      <th>19</th>\n",
       "      <td>0.0</td>\n",
       "      <td>1.0</td>\n",
       "      <td>0.0</td>\n",
       "      <td>1</td>\n",
       "      <td>NaN</td>\n",
       "      <td>2600</td>\n",
       "      <td>3500.0</td>\n",
       "      <td>115.0</td>\n",
       "      <td>NaN</td>\n",
       "      <td>1.0</td>\n",
       "      <td>1</td>\n",
       "      <td>0</td>\n",
       "      <td>0</td>\n",
       "      <td>1</td>\n",
       "    </tr>\n",
       "    <tr>\n",
       "      <th>20</th>\n",
       "      <td>0.0</td>\n",
       "      <td>1.0</td>\n",
       "      <td>0.0</td>\n",
       "      <td>0</td>\n",
       "      <td>1.0</td>\n",
       "      <td>7660</td>\n",
       "      <td>0.0</td>\n",
       "      <td>104.0</td>\n",
       "      <td>360.0</td>\n",
       "      <td>0.0</td>\n",
       "      <td>1</td>\n",
       "      <td>0</td>\n",
       "      <td>0</td>\n",
       "      <td>0</td>\n",
       "    </tr>\n",
       "    <tr>\n",
       "      <th>21</th>\n",
       "      <td>0.0</td>\n",
       "      <td>1.0</td>\n",
       "      <td>1.0</td>\n",
       "      <td>1</td>\n",
       "      <td>1.0</td>\n",
       "      <td>5955</td>\n",
       "      <td>5625.0</td>\n",
       "      <td>315.0</td>\n",
       "      <td>360.0</td>\n",
       "      <td>1.0</td>\n",
       "      <td>1</td>\n",
       "      <td>0</td>\n",
       "      <td>0</td>\n",
       "      <td>1</td>\n",
       "    </tr>\n",
       "    <tr>\n",
       "      <th>22</th>\n",
       "      <td>0.0</td>\n",
       "      <td>1.0</td>\n",
       "      <td>0.0</td>\n",
       "      <td>0</td>\n",
       "      <td>1.0</td>\n",
       "      <td>2600</td>\n",
       "      <td>1911.0</td>\n",
       "      <td>116.0</td>\n",
       "      <td>360.0</td>\n",
       "      <td>0.0</td>\n",
       "      <td>0</td>\n",
       "      <td>1</td>\n",
       "      <td>0</td>\n",
       "      <td>0</td>\n",
       "    </tr>\n",
       "    <tr>\n",
       "      <th>23</th>\n",
       "      <td>NaN</td>\n",
       "      <td>1.0</td>\n",
       "      <td>2.0</td>\n",
       "      <td>0</td>\n",
       "      <td>1.0</td>\n",
       "      <td>3365</td>\n",
       "      <td>1917.0</td>\n",
       "      <td>112.0</td>\n",
       "      <td>360.0</td>\n",
       "      <td>0.0</td>\n",
       "      <td>0</td>\n",
       "      <td>0</td>\n",
       "      <td>1</td>\n",
       "      <td>0</td>\n",
       "    </tr>\n",
       "    <tr>\n",
       "      <th>24</th>\n",
       "      <td>0.0</td>\n",
       "      <td>1.0</td>\n",
       "      <td>1.0</td>\n",
       "      <td>1</td>\n",
       "      <td>NaN</td>\n",
       "      <td>3717</td>\n",
       "      <td>2925.0</td>\n",
       "      <td>151.0</td>\n",
       "      <td>360.0</td>\n",
       "      <td>NaN</td>\n",
       "      <td>0</td>\n",
       "      <td>1</td>\n",
       "      <td>0</td>\n",
       "      <td>0</td>\n",
       "    </tr>\n",
       "    <tr>\n",
       "      <th>25</th>\n",
       "      <td>0.0</td>\n",
       "      <td>1.0</td>\n",
       "      <td>0.0</td>\n",
       "      <td>1</td>\n",
       "      <td>1.0</td>\n",
       "      <td>9560</td>\n",
       "      <td>0.0</td>\n",
       "      <td>191.0</td>\n",
       "      <td>360.0</td>\n",
       "      <td>1.0</td>\n",
       "      <td>0</td>\n",
       "      <td>1</td>\n",
       "      <td>0</td>\n",
       "      <td>1</td>\n",
       "    </tr>\n",
       "    <tr>\n",
       "      <th>26</th>\n",
       "      <td>0.0</td>\n",
       "      <td>1.0</td>\n",
       "      <td>0.0</td>\n",
       "      <td>1</td>\n",
       "      <td>1.0</td>\n",
       "      <td>2799</td>\n",
       "      <td>2253.0</td>\n",
       "      <td>122.0</td>\n",
       "      <td>360.0</td>\n",
       "      <td>1.0</td>\n",
       "      <td>0</td>\n",
       "      <td>1</td>\n",
       "      <td>0</td>\n",
       "      <td>1</td>\n",
       "    </tr>\n",
       "    <tr>\n",
       "      <th>27</th>\n",
       "      <td>0.0</td>\n",
       "      <td>1.0</td>\n",
       "      <td>2.0</td>\n",
       "      <td>0</td>\n",
       "      <td>1.0</td>\n",
       "      <td>4226</td>\n",
       "      <td>1040.0</td>\n",
       "      <td>110.0</td>\n",
       "      <td>360.0</td>\n",
       "      <td>1.0</td>\n",
       "      <td>1</td>\n",
       "      <td>0</td>\n",
       "      <td>0</td>\n",
       "      <td>1</td>\n",
       "    </tr>\n",
       "    <tr>\n",
       "      <th>28</th>\n",
       "      <td>0.0</td>\n",
       "      <td>1.0</td>\n",
       "      <td>0.0</td>\n",
       "      <td>0</td>\n",
       "      <td>1.0</td>\n",
       "      <td>1442</td>\n",
       "      <td>0.0</td>\n",
       "      <td>35.0</td>\n",
       "      <td>360.0</td>\n",
       "      <td>1.0</td>\n",
       "      <td>1</td>\n",
       "      <td>0</td>\n",
       "      <td>0</td>\n",
       "      <td>0</td>\n",
       "    </tr>\n",
       "    <tr>\n",
       "      <th>29</th>\n",
       "      <td>1.0</td>\n",
       "      <td>1.0</td>\n",
       "      <td>2.0</td>\n",
       "      <td>1</td>\n",
       "      <td>NaN</td>\n",
       "      <td>3750</td>\n",
       "      <td>2083.0</td>\n",
       "      <td>120.0</td>\n",
       "      <td>360.0</td>\n",
       "      <td>1.0</td>\n",
       "      <td>0</td>\n",
       "      <td>1</td>\n",
       "      <td>0</td>\n",
       "      <td>1</td>\n",
       "    </tr>\n",
       "    <tr>\n",
       "      <th>...</th>\n",
       "      <td>...</td>\n",
       "      <td>...</td>\n",
       "      <td>...</td>\n",
       "      <td>...</td>\n",
       "      <td>...</td>\n",
       "      <td>...</td>\n",
       "      <td>...</td>\n",
       "      <td>...</td>\n",
       "      <td>...</td>\n",
       "      <td>...</td>\n",
       "      <td>...</td>\n",
       "      <td>...</td>\n",
       "      <td>...</td>\n",
       "      <td>...</td>\n",
       "    </tr>\n",
       "    <tr>\n",
       "      <th>457</th>\n",
       "      <td>0.0</td>\n",
       "      <td>1.0</td>\n",
       "      <td>0.0</td>\n",
       "      <td>1</td>\n",
       "      <td>1.0</td>\n",
       "      <td>3708</td>\n",
       "      <td>2569.0</td>\n",
       "      <td>173.0</td>\n",
       "      <td>360.0</td>\n",
       "      <td>1.0</td>\n",
       "      <td>1</td>\n",
       "      <td>0</td>\n",
       "      <td>0</td>\n",
       "      <td>0</td>\n",
       "    </tr>\n",
       "    <tr>\n",
       "      <th>458</th>\n",
       "      <td>0.0</td>\n",
       "      <td>1.0</td>\n",
       "      <td>2.0</td>\n",
       "      <td>1</td>\n",
       "      <td>1.0</td>\n",
       "      <td>4354</td>\n",
       "      <td>0.0</td>\n",
       "      <td>136.0</td>\n",
       "      <td>360.0</td>\n",
       "      <td>1.0</td>\n",
       "      <td>0</td>\n",
       "      <td>0</td>\n",
       "      <td>1</td>\n",
       "      <td>1</td>\n",
       "    </tr>\n",
       "    <tr>\n",
       "      <th>459</th>\n",
       "      <td>0.0</td>\n",
       "      <td>1.0</td>\n",
       "      <td>0.0</td>\n",
       "      <td>1</td>\n",
       "      <td>1.0</td>\n",
       "      <td>8334</td>\n",
       "      <td>0.0</td>\n",
       "      <td>160.0</td>\n",
       "      <td>360.0</td>\n",
       "      <td>1.0</td>\n",
       "      <td>0</td>\n",
       "      <td>1</td>\n",
       "      <td>0</td>\n",
       "      <td>0</td>\n",
       "    </tr>\n",
       "    <tr>\n",
       "      <th>460</th>\n",
       "      <td>NaN</td>\n",
       "      <td>1.0</td>\n",
       "      <td>0.0</td>\n",
       "      <td>1</td>\n",
       "      <td>1.0</td>\n",
       "      <td>2083</td>\n",
       "      <td>4083.0</td>\n",
       "      <td>160.0</td>\n",
       "      <td>360.0</td>\n",
       "      <td>NaN</td>\n",
       "      <td>0</td>\n",
       "      <td>1</td>\n",
       "      <td>0</td>\n",
       "      <td>1</td>\n",
       "    </tr>\n",
       "    <tr>\n",
       "      <th>461</th>\n",
       "      <td>0.0</td>\n",
       "      <td>1.0</td>\n",
       "      <td>3.5</td>\n",
       "      <td>1</td>\n",
       "      <td>1.0</td>\n",
       "      <td>7740</td>\n",
       "      <td>0.0</td>\n",
       "      <td>128.0</td>\n",
       "      <td>180.0</td>\n",
       "      <td>1.0</td>\n",
       "      <td>1</td>\n",
       "      <td>0</td>\n",
       "      <td>0</td>\n",
       "      <td>1</td>\n",
       "    </tr>\n",
       "    <tr>\n",
       "      <th>462</th>\n",
       "      <td>0.0</td>\n",
       "      <td>1.0</td>\n",
       "      <td>0.0</td>\n",
       "      <td>1</td>\n",
       "      <td>1.0</td>\n",
       "      <td>3015</td>\n",
       "      <td>2188.0</td>\n",
       "      <td>153.0</td>\n",
       "      <td>360.0</td>\n",
       "      <td>1.0</td>\n",
       "      <td>0</td>\n",
       "      <td>0</td>\n",
       "      <td>1</td>\n",
       "      <td>1</td>\n",
       "    </tr>\n",
       "    <tr>\n",
       "      <th>463</th>\n",
       "      <td>1.0</td>\n",
       "      <td>1.0</td>\n",
       "      <td>1.0</td>\n",
       "      <td>0</td>\n",
       "      <td>NaN</td>\n",
       "      <td>5191</td>\n",
       "      <td>0.0</td>\n",
       "      <td>132.0</td>\n",
       "      <td>360.0</td>\n",
       "      <td>1.0</td>\n",
       "      <td>0</td>\n",
       "      <td>1</td>\n",
       "      <td>0</td>\n",
       "      <td>1</td>\n",
       "    </tr>\n",
       "    <tr>\n",
       "      <th>464</th>\n",
       "      <td>0.0</td>\n",
       "      <td>1.0</td>\n",
       "      <td>0.0</td>\n",
       "      <td>1</td>\n",
       "      <td>1.0</td>\n",
       "      <td>4166</td>\n",
       "      <td>0.0</td>\n",
       "      <td>98.0</td>\n",
       "      <td>360.0</td>\n",
       "      <td>0.0</td>\n",
       "      <td>0</td>\n",
       "      <td>1</td>\n",
       "      <td>0</td>\n",
       "      <td>0</td>\n",
       "    </tr>\n",
       "    <tr>\n",
       "      <th>465</th>\n",
       "      <td>0.0</td>\n",
       "      <td>1.0</td>\n",
       "      <td>0.0</td>\n",
       "      <td>1</td>\n",
       "      <td>1.0</td>\n",
       "      <td>6000</td>\n",
       "      <td>0.0</td>\n",
       "      <td>140.0</td>\n",
       "      <td>360.0</td>\n",
       "      <td>1.0</td>\n",
       "      <td>0</td>\n",
       "      <td>0</td>\n",
       "      <td>1</td>\n",
       "      <td>1</td>\n",
       "    </tr>\n",
       "    <tr>\n",
       "      <th>466</th>\n",
       "      <td>0.0</td>\n",
       "      <td>1.0</td>\n",
       "      <td>3.5</td>\n",
       "      <td>0</td>\n",
       "      <td>1.0</td>\n",
       "      <td>2947</td>\n",
       "      <td>1664.0</td>\n",
       "      <td>70.0</td>\n",
       "      <td>180.0</td>\n",
       "      <td>0.0</td>\n",
       "      <td>1</td>\n",
       "      <td>0</td>\n",
       "      <td>0</td>\n",
       "      <td>0</td>\n",
       "    </tr>\n",
       "    <tr>\n",
       "      <th>467</th>\n",
       "      <td>NaN</td>\n",
       "      <td>1.0</td>\n",
       "      <td>0.0</td>\n",
       "      <td>1</td>\n",
       "      <td>1.0</td>\n",
       "      <td>16692</td>\n",
       "      <td>0.0</td>\n",
       "      <td>110.0</td>\n",
       "      <td>360.0</td>\n",
       "      <td>1.0</td>\n",
       "      <td>0</td>\n",
       "      <td>1</td>\n",
       "      <td>0</td>\n",
       "      <td>1</td>\n",
       "    </tr>\n",
       "    <tr>\n",
       "      <th>468</th>\n",
       "      <td>1.0</td>\n",
       "      <td>1.0</td>\n",
       "      <td>2.0</td>\n",
       "      <td>0</td>\n",
       "      <td>NaN</td>\n",
       "      <td>210</td>\n",
       "      <td>2917.0</td>\n",
       "      <td>98.0</td>\n",
       "      <td>360.0</td>\n",
       "      <td>1.0</td>\n",
       "      <td>0</td>\n",
       "      <td>1</td>\n",
       "      <td>0</td>\n",
       "      <td>1</td>\n",
       "    </tr>\n",
       "    <tr>\n",
       "      <th>469</th>\n",
       "      <td>0.0</td>\n",
       "      <td>1.0</td>\n",
       "      <td>0.0</td>\n",
       "      <td>1</td>\n",
       "      <td>1.0</td>\n",
       "      <td>4333</td>\n",
       "      <td>2451.0</td>\n",
       "      <td>110.0</td>\n",
       "      <td>360.0</td>\n",
       "      <td>1.0</td>\n",
       "      <td>1</td>\n",
       "      <td>0</td>\n",
       "      <td>0</td>\n",
       "      <td>0</td>\n",
       "    </tr>\n",
       "    <tr>\n",
       "      <th>470</th>\n",
       "      <td>0.0</td>\n",
       "      <td>1.0</td>\n",
       "      <td>1.0</td>\n",
       "      <td>1</td>\n",
       "      <td>1.0</td>\n",
       "      <td>3450</td>\n",
       "      <td>2079.0</td>\n",
       "      <td>162.0</td>\n",
       "      <td>360.0</td>\n",
       "      <td>1.0</td>\n",
       "      <td>0</td>\n",
       "      <td>1</td>\n",
       "      <td>0</td>\n",
       "      <td>1</td>\n",
       "    </tr>\n",
       "    <tr>\n",
       "      <th>471</th>\n",
       "      <td>0.0</td>\n",
       "      <td>1.0</td>\n",
       "      <td>1.0</td>\n",
       "      <td>0</td>\n",
       "      <td>1.0</td>\n",
       "      <td>2653</td>\n",
       "      <td>1500.0</td>\n",
       "      <td>113.0</td>\n",
       "      <td>180.0</td>\n",
       "      <td>0.0</td>\n",
       "      <td>0</td>\n",
       "      <td>0</td>\n",
       "      <td>1</td>\n",
       "      <td>0</td>\n",
       "    </tr>\n",
       "    <tr>\n",
       "      <th>472</th>\n",
       "      <td>0.0</td>\n",
       "      <td>1.0</td>\n",
       "      <td>3.5</td>\n",
       "      <td>1</td>\n",
       "      <td>1.0</td>\n",
       "      <td>4691</td>\n",
       "      <td>0.0</td>\n",
       "      <td>100.0</td>\n",
       "      <td>360.0</td>\n",
       "      <td>1.0</td>\n",
       "      <td>0</td>\n",
       "      <td>1</td>\n",
       "      <td>0</td>\n",
       "      <td>1</td>\n",
       "    </tr>\n",
       "    <tr>\n",
       "      <th>473</th>\n",
       "      <td>1.0</td>\n",
       "      <td>1.0</td>\n",
       "      <td>0.0</td>\n",
       "      <td>1</td>\n",
       "      <td>1.0</td>\n",
       "      <td>2500</td>\n",
       "      <td>0.0</td>\n",
       "      <td>93.0</td>\n",
       "      <td>360.0</td>\n",
       "      <td>NaN</td>\n",
       "      <td>1</td>\n",
       "      <td>0</td>\n",
       "      <td>0</td>\n",
       "      <td>1</td>\n",
       "    </tr>\n",
       "    <tr>\n",
       "      <th>474</th>\n",
       "      <td>0.0</td>\n",
       "      <td>1.0</td>\n",
       "      <td>2.0</td>\n",
       "      <td>1</td>\n",
       "      <td>1.0</td>\n",
       "      <td>5532</td>\n",
       "      <td>4648.0</td>\n",
       "      <td>162.0</td>\n",
       "      <td>360.0</td>\n",
       "      <td>1.0</td>\n",
       "      <td>0</td>\n",
       "      <td>0</td>\n",
       "      <td>1</td>\n",
       "      <td>1</td>\n",
       "    </tr>\n",
       "    <tr>\n",
       "      <th>475</th>\n",
       "      <td>0.0</td>\n",
       "      <td>1.0</td>\n",
       "      <td>2.0</td>\n",
       "      <td>1</td>\n",
       "      <td>1.0</td>\n",
       "      <td>16525</td>\n",
       "      <td>1014.0</td>\n",
       "      <td>150.0</td>\n",
       "      <td>360.0</td>\n",
       "      <td>1.0</td>\n",
       "      <td>0</td>\n",
       "      <td>0</td>\n",
       "      <td>1</td>\n",
       "      <td>1</td>\n",
       "    </tr>\n",
       "    <tr>\n",
       "      <th>476</th>\n",
       "      <td>0.0</td>\n",
       "      <td>1.0</td>\n",
       "      <td>2.0</td>\n",
       "      <td>1</td>\n",
       "      <td>1.0</td>\n",
       "      <td>6700</td>\n",
       "      <td>1750.0</td>\n",
       "      <td>230.0</td>\n",
       "      <td>300.0</td>\n",
       "      <td>1.0</td>\n",
       "      <td>0</td>\n",
       "      <td>1</td>\n",
       "      <td>0</td>\n",
       "      <td>1</td>\n",
       "    </tr>\n",
       "    <tr>\n",
       "      <th>477</th>\n",
       "      <td>NaN</td>\n",
       "      <td>1.0</td>\n",
       "      <td>2.0</td>\n",
       "      <td>1</td>\n",
       "      <td>1.0</td>\n",
       "      <td>2873</td>\n",
       "      <td>1872.0</td>\n",
       "      <td>132.0</td>\n",
       "      <td>360.0</td>\n",
       "      <td>0.0</td>\n",
       "      <td>0</td>\n",
       "      <td>1</td>\n",
       "      <td>0</td>\n",
       "      <td>0</td>\n",
       "    </tr>\n",
       "    <tr>\n",
       "      <th>478</th>\n",
       "      <td>0.0</td>\n",
       "      <td>1.0</td>\n",
       "      <td>1.0</td>\n",
       "      <td>1</td>\n",
       "      <td>1.0</td>\n",
       "      <td>16667</td>\n",
       "      <td>2250.0</td>\n",
       "      <td>86.0</td>\n",
       "      <td>360.0</td>\n",
       "      <td>1.0</td>\n",
       "      <td>0</td>\n",
       "      <td>1</td>\n",
       "      <td>0</td>\n",
       "      <td>1</td>\n",
       "    </tr>\n",
       "    <tr>\n",
       "      <th>479</th>\n",
       "      <td>0.0</td>\n",
       "      <td>1.0</td>\n",
       "      <td>2.0</td>\n",
       "      <td>1</td>\n",
       "      <td>1.0</td>\n",
       "      <td>2947</td>\n",
       "      <td>1603.0</td>\n",
       "      <td>NaN</td>\n",
       "      <td>360.0</td>\n",
       "      <td>1.0</td>\n",
       "      <td>1</td>\n",
       "      <td>0</td>\n",
       "      <td>0</td>\n",
       "      <td>0</td>\n",
       "    </tr>\n",
       "    <tr>\n",
       "      <th>480</th>\n",
       "      <td>1.0</td>\n",
       "      <td>1.0</td>\n",
       "      <td>0.0</td>\n",
       "      <td>0</td>\n",
       "      <td>1.0</td>\n",
       "      <td>4350</td>\n",
       "      <td>0.0</td>\n",
       "      <td>154.0</td>\n",
       "      <td>360.0</td>\n",
       "      <td>1.0</td>\n",
       "      <td>0</td>\n",
       "      <td>0</td>\n",
       "      <td>1</td>\n",
       "      <td>1</td>\n",
       "    </tr>\n",
       "    <tr>\n",
       "      <th>481</th>\n",
       "      <td>0.0</td>\n",
       "      <td>1.0</td>\n",
       "      <td>3.5</td>\n",
       "      <td>0</td>\n",
       "      <td>1.0</td>\n",
       "      <td>3095</td>\n",
       "      <td>0.0</td>\n",
       "      <td>113.0</td>\n",
       "      <td>360.0</td>\n",
       "      <td>1.0</td>\n",
       "      <td>0</td>\n",
       "      <td>0</td>\n",
       "      <td>1</td>\n",
       "      <td>1</td>\n",
       "    </tr>\n",
       "    <tr>\n",
       "      <th>482</th>\n",
       "      <td>0.0</td>\n",
       "      <td>1.0</td>\n",
       "      <td>0.0</td>\n",
       "      <td>1</td>\n",
       "      <td>1.0</td>\n",
       "      <td>2083</td>\n",
       "      <td>3150.0</td>\n",
       "      <td>128.0</td>\n",
       "      <td>360.0</td>\n",
       "      <td>1.0</td>\n",
       "      <td>0</td>\n",
       "      <td>1</td>\n",
       "      <td>0</td>\n",
       "      <td>1</td>\n",
       "    </tr>\n",
       "    <tr>\n",
       "      <th>483</th>\n",
       "      <td>0.0</td>\n",
       "      <td>1.0</td>\n",
       "      <td>0.0</td>\n",
       "      <td>1</td>\n",
       "      <td>1.0</td>\n",
       "      <td>10833</td>\n",
       "      <td>0.0</td>\n",
       "      <td>234.0</td>\n",
       "      <td>360.0</td>\n",
       "      <td>1.0</td>\n",
       "      <td>0</td>\n",
       "      <td>1</td>\n",
       "      <td>0</td>\n",
       "      <td>1</td>\n",
       "    </tr>\n",
       "    <tr>\n",
       "      <th>484</th>\n",
       "      <td>0.0</td>\n",
       "      <td>1.0</td>\n",
       "      <td>2.0</td>\n",
       "      <td>1</td>\n",
       "      <td>1.0</td>\n",
       "      <td>8333</td>\n",
       "      <td>0.0</td>\n",
       "      <td>246.0</td>\n",
       "      <td>360.0</td>\n",
       "      <td>1.0</td>\n",
       "      <td>0</td>\n",
       "      <td>1</td>\n",
       "      <td>0</td>\n",
       "      <td>1</td>\n",
       "    </tr>\n",
       "    <tr>\n",
       "      <th>485</th>\n",
       "      <td>0.0</td>\n",
       "      <td>1.0</td>\n",
       "      <td>1.0</td>\n",
       "      <td>0</td>\n",
       "      <td>1.0</td>\n",
       "      <td>1958</td>\n",
       "      <td>2436.0</td>\n",
       "      <td>131.0</td>\n",
       "      <td>360.0</td>\n",
       "      <td>1.0</td>\n",
       "      <td>0</td>\n",
       "      <td>0</td>\n",
       "      <td>1</td>\n",
       "      <td>1</td>\n",
       "    </tr>\n",
       "    <tr>\n",
       "      <th>486</th>\n",
       "      <td>0.0</td>\n",
       "      <td>1.0</td>\n",
       "      <td>2.0</td>\n",
       "      <td>1</td>\n",
       "      <td>1.0</td>\n",
       "      <td>3547</td>\n",
       "      <td>0.0</td>\n",
       "      <td>80.0</td>\n",
       "      <td>360.0</td>\n",
       "      <td>0.0</td>\n",
       "      <td>0</td>\n",
       "      <td>0</td>\n",
       "      <td>1</td>\n",
       "      <td>0</td>\n",
       "    </tr>\n",
       "  </tbody>\n",
       "</table>\n",
       "<p>487 rows × 14 columns</p>\n",
       "</div>"
      ],
      "text/plain": [
       "     Gender  Married  Dependents  Education  Self_Employed  ApplicantIncome  \\\n",
       "0       0.0      1.0         0.0          1            1.0             5849   \n",
       "1       0.0      1.0         1.0          1            1.0             4583   \n",
       "2       0.0      1.0         0.0          1            1.0             3000   \n",
       "3       0.0      1.0         0.0          0            1.0             2583   \n",
       "4       0.0      1.0         0.0          1            1.0             6000   \n",
       "5       0.0      1.0         2.0          1            1.0             5417   \n",
       "6       0.0      1.0         0.0          0            1.0             2333   \n",
       "7       0.0      1.0         3.5          1            1.0             3036   \n",
       "8       0.0      1.0         2.0          1            1.0             4006   \n",
       "9       0.0      1.0         1.0          1            1.0            12841   \n",
       "10      0.0      1.0         2.0          1            1.0             3200   \n",
       "11      0.0      1.0         2.0          1            NaN             2500   \n",
       "12      0.0      1.0         2.0          1            1.0             3073   \n",
       "13      0.0      1.0         0.0          1            1.0             1853   \n",
       "14      0.0      1.0         2.0          1            1.0             1299   \n",
       "15      0.0      1.0         0.0          1            1.0             4950   \n",
       "16      0.0      1.0         1.0          0            1.0             3596   \n",
       "17      1.0      1.0         0.0          1            1.0             3510   \n",
       "18      0.0      1.0         0.0          0            1.0             4887   \n",
       "19      0.0      1.0         0.0          1            NaN             2600   \n",
       "20      0.0      1.0         0.0          0            1.0             7660   \n",
       "21      0.0      1.0         1.0          1            1.0             5955   \n",
       "22      0.0      1.0         0.0          0            1.0             2600   \n",
       "23      NaN      1.0         2.0          0            1.0             3365   \n",
       "24      0.0      1.0         1.0          1            NaN             3717   \n",
       "25      0.0      1.0         0.0          1            1.0             9560   \n",
       "26      0.0      1.0         0.0          1            1.0             2799   \n",
       "27      0.0      1.0         2.0          0            1.0             4226   \n",
       "28      0.0      1.0         0.0          0            1.0             1442   \n",
       "29      1.0      1.0         2.0          1            NaN             3750   \n",
       "..      ...      ...         ...        ...            ...              ...   \n",
       "457     0.0      1.0         0.0          1            1.0             3708   \n",
       "458     0.0      1.0         2.0          1            1.0             4354   \n",
       "459     0.0      1.0         0.0          1            1.0             8334   \n",
       "460     NaN      1.0         0.0          1            1.0             2083   \n",
       "461     0.0      1.0         3.5          1            1.0             7740   \n",
       "462     0.0      1.0         0.0          1            1.0             3015   \n",
       "463     1.0      1.0         1.0          0            NaN             5191   \n",
       "464     0.0      1.0         0.0          1            1.0             4166   \n",
       "465     0.0      1.0         0.0          1            1.0             6000   \n",
       "466     0.0      1.0         3.5          0            1.0             2947   \n",
       "467     NaN      1.0         0.0          1            1.0            16692   \n",
       "468     1.0      1.0         2.0          0            NaN              210   \n",
       "469     0.0      1.0         0.0          1            1.0             4333   \n",
       "470     0.0      1.0         1.0          1            1.0             3450   \n",
       "471     0.0      1.0         1.0          0            1.0             2653   \n",
       "472     0.0      1.0         3.5          1            1.0             4691   \n",
       "473     1.0      1.0         0.0          1            1.0             2500   \n",
       "474     0.0      1.0         2.0          1            1.0             5532   \n",
       "475     0.0      1.0         2.0          1            1.0            16525   \n",
       "476     0.0      1.0         2.0          1            1.0             6700   \n",
       "477     NaN      1.0         2.0          1            1.0             2873   \n",
       "478     0.0      1.0         1.0          1            1.0            16667   \n",
       "479     0.0      1.0         2.0          1            1.0             2947   \n",
       "480     1.0      1.0         0.0          0            1.0             4350   \n",
       "481     0.0      1.0         3.5          0            1.0             3095   \n",
       "482     0.0      1.0         0.0          1            1.0             2083   \n",
       "483     0.0      1.0         0.0          1            1.0            10833   \n",
       "484     0.0      1.0         2.0          1            1.0             8333   \n",
       "485     0.0      1.0         1.0          0            1.0             1958   \n",
       "486     0.0      1.0         2.0          1            1.0             3547   \n",
       "\n",
       "     CoapplicantIncome  LoanAmount  Loan_Amount_Term  Credit_History  Urban  \\\n",
       "0                  0.0         NaN             360.0             1.0      1   \n",
       "1               1508.0       128.0             360.0             1.0      0   \n",
       "2                  0.0        66.0             360.0             1.0      1   \n",
       "3               2358.0       120.0             360.0             1.0      1   \n",
       "4                  0.0       141.0             360.0             1.0      1   \n",
       "5               4196.0       267.0             360.0             1.0      1   \n",
       "6               1516.0        95.0             360.0             1.0      1   \n",
       "7               2504.0       158.0             360.0             0.0      0   \n",
       "8               1526.0       168.0             360.0             1.0      1   \n",
       "9              10968.0       349.0             360.0             1.0      0   \n",
       "10               700.0        70.0             360.0             1.0      1   \n",
       "11              1840.0       109.0             360.0             1.0      1   \n",
       "12              8106.0       200.0             360.0             1.0      1   \n",
       "13              2840.0       114.0             360.0             1.0      0   \n",
       "14              1086.0        17.0             120.0             1.0      1   \n",
       "15                 0.0       125.0             360.0             1.0      1   \n",
       "16                 0.0       100.0             240.0             NaN      1   \n",
       "17                 0.0        76.0             360.0             0.0      1   \n",
       "18                 0.0       133.0             360.0             1.0      0   \n",
       "19              3500.0       115.0               NaN             1.0      1   \n",
       "20                 0.0       104.0             360.0             0.0      1   \n",
       "21              5625.0       315.0             360.0             1.0      1   \n",
       "22              1911.0       116.0             360.0             0.0      0   \n",
       "23              1917.0       112.0             360.0             0.0      0   \n",
       "24              2925.0       151.0             360.0             NaN      0   \n",
       "25                 0.0       191.0             360.0             1.0      0   \n",
       "26              2253.0       122.0             360.0             1.0      0   \n",
       "27              1040.0       110.0             360.0             1.0      1   \n",
       "28                 0.0        35.0             360.0             1.0      1   \n",
       "29              2083.0       120.0             360.0             1.0      0   \n",
       "..                 ...         ...               ...             ...    ...   \n",
       "457             2569.0       173.0             360.0             1.0      1   \n",
       "458                0.0       136.0             360.0             1.0      0   \n",
       "459                0.0       160.0             360.0             1.0      0   \n",
       "460             4083.0       160.0             360.0             NaN      0   \n",
       "461                0.0       128.0             180.0             1.0      1   \n",
       "462             2188.0       153.0             360.0             1.0      0   \n",
       "463                0.0       132.0             360.0             1.0      0   \n",
       "464                0.0        98.0             360.0             0.0      0   \n",
       "465                0.0       140.0             360.0             1.0      0   \n",
       "466             1664.0        70.0             180.0             0.0      1   \n",
       "467                0.0       110.0             360.0             1.0      0   \n",
       "468             2917.0        98.0             360.0             1.0      0   \n",
       "469             2451.0       110.0             360.0             1.0      1   \n",
       "470             2079.0       162.0             360.0             1.0      0   \n",
       "471             1500.0       113.0             180.0             0.0      0   \n",
       "472                0.0       100.0             360.0             1.0      0   \n",
       "473                0.0        93.0             360.0             NaN      1   \n",
       "474             4648.0       162.0             360.0             1.0      0   \n",
       "475             1014.0       150.0             360.0             1.0      0   \n",
       "476             1750.0       230.0             300.0             1.0      0   \n",
       "477             1872.0       132.0             360.0             0.0      0   \n",
       "478             2250.0        86.0             360.0             1.0      0   \n",
       "479             1603.0         NaN             360.0             1.0      1   \n",
       "480                0.0       154.0             360.0             1.0      0   \n",
       "481                0.0       113.0             360.0             1.0      0   \n",
       "482             3150.0       128.0             360.0             1.0      0   \n",
       "483                0.0       234.0             360.0             1.0      0   \n",
       "484                0.0       246.0             360.0             1.0      0   \n",
       "485             2436.0       131.0             360.0             1.0      0   \n",
       "486                0.0        80.0             360.0             0.0      0   \n",
       "\n",
       "     Semiurban  Rural  Loan_Status  \n",
       "0            0      0            1  \n",
       "1            0      1            0  \n",
       "2            0      0            1  \n",
       "3            0      0            1  \n",
       "4            0      0            1  \n",
       "5            0      0            1  \n",
       "6            0      0            1  \n",
       "7            1      0            0  \n",
       "8            0      0            1  \n",
       "9            1      0            0  \n",
       "10           0      0            1  \n",
       "11           0      0            1  \n",
       "12           0      0            1  \n",
       "13           0      1            0  \n",
       "14           0      0            1  \n",
       "15           0      0            1  \n",
       "16           0      0            1  \n",
       "17           0      0            0  \n",
       "18           0      1            0  \n",
       "19           0      0            1  \n",
       "20           0      0            0  \n",
       "21           0      0            1  \n",
       "22           1      0            0  \n",
       "23           0      1            0  \n",
       "24           1      0            0  \n",
       "25           1      0            1  \n",
       "26           1      0            1  \n",
       "27           0      0            1  \n",
       "28           0      0            0  \n",
       "29           1      0            1  \n",
       "..         ...    ...          ...  \n",
       "457          0      0            0  \n",
       "458          0      1            1  \n",
       "459          1      0            0  \n",
       "460          1      0            1  \n",
       "461          0      0            1  \n",
       "462          0      1            1  \n",
       "463          1      0            1  \n",
       "464          1      0            0  \n",
       "465          0      1            1  \n",
       "466          0      0            0  \n",
       "467          1      0            1  \n",
       "468          1      0            1  \n",
       "469          0      0            0  \n",
       "470          1      0            1  \n",
       "471          0      1            0  \n",
       "472          1      0            1  \n",
       "473          0      0            1  \n",
       "474          0      1            1  \n",
       "475          0      1            1  \n",
       "476          1      0            1  \n",
       "477          1      0            0  \n",
       "478          1      0            1  \n",
       "479          0      0            0  \n",
       "480          0      1            1  \n",
       "481          0      1            1  \n",
       "482          1      0            1  \n",
       "483          1      0            1  \n",
       "484          1      0            1  \n",
       "485          0      1            1  \n",
       "486          0      1            0  \n",
       "\n",
       "[487 rows x 14 columns]"
      ]
     },
     "execution_count": 11,
     "metadata": {},
     "output_type": "execute_result"
    }
   ],
   "source": [
    "#If you want to see your data\n",
    "trainingdata"
   ]
  },
  {
   "cell_type": "markdown",
   "metadata": {},
   "source": [
    "You probably noticed that there are a bunch of missing values in the dataset. The following tells you how many are missing in each variable:"
   ]
  },
  {
   "cell_type": "code",
   "execution_count": 12,
   "metadata": {},
   "outputs": [
    {
     "data": {
      "text/plain": [
       "Gender                9\n",
       "Married               3\n",
       "Dependents           12\n",
       "Education             0\n",
       "Self_Employed        27\n",
       "ApplicantIncome       0\n",
       "CoapplicantIncome     0\n",
       "LoanAmount           18\n",
       "Loan_Amount_Term     14\n",
       "Credit_History       38\n",
       "Urban                 0\n",
       "Semiurban             0\n",
       "Rural                 0\n",
       "Loan_Status           0\n",
       "dtype: int64"
      ]
     },
     "execution_count": 12,
     "metadata": {},
     "output_type": "execute_result"
    }
   ],
   "source": [
    "#If you want to see how many values are missing\n",
    "trainingdata.isnull().sum()"
   ]
  },
  {
   "cell_type": "markdown",
   "metadata": {},
   "source": [
    "You're going to need to figure out how to deal with these missing values. [Hint](https://pandas.pydata.org/pandas-docs/stable/generated/pandas.DataFrame.dropna.html)\n",
    "\n",
    "**(1) Remove all the rows that have missing values. For simplicity, also call your new dataframe 'trainingdata'.** (5 pts)"
   ]
  },
  {
   "cell_type": "code",
   "execution_count": 13,
   "metadata": {},
   "outputs": [],
   "source": [
    "#Enter code here to remove the rows with missing values\n",
    "trainingdata = trainingdata.dropna()"
   ]
  },
  {
   "cell_type": "markdown",
   "metadata": {},
   "source": [
    "If you have correctly removed all rows with missing values, the following code should return \"True\":"
   ]
  },
  {
   "cell_type": "code",
   "execution_count": 14,
   "metadata": {},
   "outputs": [
    {
     "data": {
      "text/plain": [
       "True"
      ]
     },
     "execution_count": 14,
     "metadata": {},
     "output_type": "execute_result"
    }
   ],
   "source": [
    "#DO NOT EDIT\n",
    "not trainingdata.isnull().values.any()"
   ]
  },
  {
   "cell_type": "markdown",
   "metadata": {},
   "source": [
    "The next two lines split the data into two chunks. Train_X is the features and their values from the training dataset. Train_y is the class value that we want to predict."
   ]
  },
  {
   "cell_type": "code",
   "execution_count": 15,
   "metadata": {},
   "outputs": [],
   "source": [
    "#This creates an array of features that includes all features except 'Loan_Status' which is what we want to predict\n",
    "Train_X = numpy.array(trainingdata.drop(['Loan_Status'],1))\n",
    "\n",
    "#This creates an array that includes ONLY 'Loan_Status'\n",
    "Train_y = numpy.array(trainingdata['Loan_Status'])"
   ]
  },
  {
   "cell_type": "markdown",
   "metadata": {},
   "source": [
    "Ideally we would preprocess the data to make sure that the different distributions of values don't skew the relative importance of the features. For example, 'ApplicantIncome' ranges into the tens of thousands while binary variables are just zero or one. We're not going to do this here, but we will in the future. Just know that it puts the values of most variables in the general range of -1 to 1. If you want to read more about this, go [here](http://scikit-learn.org/stable/auto_examples/preprocessing/plot_all_scaling.html#sphx-glr-auto-examples-preprocessing-plot-all-scaling-py)."
   ]
  },
  {
   "cell_type": "markdown",
   "metadata": {},
   "source": [
    "Next we actually make the classifier. We're using a Gaussian Naive Bayes classifier ([documentation if you're interested](http://scikit-learn.org/stable/modules/generated/sklearn.naive_bayes.GaussianNB.html)) within sklearn, and there are a ton of parameters you can tune, but we'll go simple to start."
   ]
  },
  {
   "cell_type": "code",
   "execution_count": 16,
   "metadata": {},
   "outputs": [
    {
     "data": {
      "text/plain": [
       "GaussianNB(priors=None)"
      ]
     },
     "execution_count": 16,
     "metadata": {},
     "output_type": "execute_result"
    }
   ],
   "source": [
    "from sklearn.naive_bayes import GaussianNB\n",
    "classifier = GaussianNB()\n",
    "classifier.fit(Train_X,Train_y)"
   ]
  },
  {
   "cell_type": "markdown",
   "metadata": {},
   "source": [
    "Let's test it out. The following code takes a hand-entered set of data and predicts whether the loan will be approved:"
   ]
  },
  {
   "cell_type": "code",
   "execution_count": 17,
   "metadata": {},
   "outputs": [
    {
     "name": "stdout",
     "output_type": "stream",
     "text": [
      "Prediction: [1]\n"
     ]
    }
   ],
   "source": [
    "#You can play with this\n",
    "prediction = classifier.predict(numpy.asarray([0,1,2,0,1,5000,1255,100,360,1,0,0,1]).reshape(1,-1))\n",
    "\n",
    "print('Prediction:', prediction)"
   ]
  },
  {
   "cell_type": "markdown",
   "metadata": {},
   "source": [
    "The classifier predicts that the above person would be approved, as the output is a 1. If the output were 0, that would mean it predicts that they would be declined.\n",
    "\n",
    "**(2) Switch the zeros in the following code for your own values to find three cases where changing a single variable makes the difference between approved and declined. See case0a and case0b below for examples- an applicant might be approved if they have a monthly income of \\$5000 in Case0a, but an otherwise identical applicant would be declined if they only had a monthly income of \\$1000, as in Case0b. Use a different variable (e.g., Gender, ApplicantIncome, etc) for each of the three cases.** (10 pts)"
   ]
  },
  {
   "cell_type": "code",
   "execution_count": 18,
   "metadata": {},
   "outputs": [
    {
     "name": "stdout",
     "output_type": "stream",
     "text": [
      "Case0a: [1]\n",
      "Case0b: [0]\n",
      "Case1a: [1]\n",
      "Case1b: [0]\n",
      "Case2a: [1]\n",
      "Case2b: [0]\n",
      "Case3a: [1]\n",
      "Case3b: [0]\n"
     ]
    }
   ],
   "source": [
    "#Example:\n",
    "\n",
    "prediction0a = classifier.predict(numpy.asarray([1,1,0,1,0,5000,0,300,360,1,0,0,1]).reshape(1,-1))\n",
    "print('Case0a:', prediction0a)\n",
    "\n",
    "prediction0b = classifier.predict(numpy.asarray([1,1,0,1,0,1000,0,300,360,1,0,0,1]).reshape(1,-1))\n",
    "print('Case0b:', prediction0b)\n",
    "\n",
    "\n",
    "#Switch the zeros with your own values below:\n",
    "\n",
    "#change loan amount\n",
    "prediction1a = classifier.predict(numpy.asarray([1,1,0,1,0,5000,0,300,360,1,0,0,1]).reshape(1,-1))\n",
    "print('Case1a:', prediction1a)\n",
    "\n",
    "prediction1b = classifier.predict(numpy.asarray([1,1,0,1,0,5000,0,1000,360,1,0,0,1]).reshape(1,-1))\n",
    "print('Case1b:', prediction1b)\n",
    "\n",
    "#change loan amount time\n",
    "prediction2a = classifier.predict(numpy.asarray([1,1,0,1,0,5000,0,300,360,1,0,0,1]).reshape(1,-1))\n",
    "print('Case2a:', prediction2a)\n",
    "\n",
    "prediction2b = classifier.predict(numpy.asarray([1,1,0,1,0,5000,0,300,360,5,0,0,1]).reshape(1,-1))\n",
    "print('Case2b:', prediction2b)\n",
    "\n",
    "#change credit history\n",
    "prediction3a = classifier.predict(numpy.asarray([1,1,0,1,0,5000,0,300,360,1,0,0,1]).reshape(1,-1))\n",
    "print('Case3a:', prediction3a)\n",
    "\n",
    "prediction3b = classifier.predict(numpy.asarray([1,1,0,1,0,5000,0,300,360,1,1,0,1]).reshape(1,-1))\n",
    "print('Case3b:', prediction3b)\n",
    "\n",
    "\n",
    "#output below should be \n",
    "#Case0a: [1]\n",
    "#Case0b: [0]\n",
    "#Case1a: [1]\n",
    "#Case1b: [0]\n",
    "#Case2a: [1]\n",
    "#Case2b: [0]\n",
    "#Case3a: [1]\n",
    "#Case3b: [0]"
   ]
  },
  {
   "cell_type": "markdown",
   "metadata": {},
   "source": [
    "**(3) The next thing we need to do is import the test set (loantestset.csv) and see how good our classifier is at predicting the values there. Do this, following the same steps as above to import and convert to arrays. Put the features in an array called 'Test_X' and the class (Loan_Status) in an array called 'Test_y'.** (5 pts)"
   ]
  },
  {
   "cell_type": "code",
   "execution_count": 19,
   "metadata": {},
   "outputs": [],
   "source": [
    "# Write code here to import the test data and convert into arrays\n",
    "loantestdata = pandas.read_csv(\"loantestset.csv\", header = 0)\n",
    "loantestdata = loantestdata._get_numeric_data().dropna()\n",
    "\n",
    "Test_X = numpy.array(loantestdata.drop(['Loan_Status'],1))\n",
    "Test_y = numpy.array(loantestdata['Loan_Status'])"
   ]
  },
  {
   "cell_type": "markdown",
   "metadata": {},
   "source": [
    "If you've imported them correctly, the following code should report the arrays as having dimensions 100x13 and 100x1:"
   ]
  },
  {
   "cell_type": "code",
   "execution_count": 20,
   "metadata": {},
   "outputs": [
    {
     "name": "stdout",
     "output_type": "stream",
     "text": [
      "(100, 13) (100,)\n"
     ]
    }
   ],
   "source": [
    "# DO NOT EDIT THIS\n",
    "# Should return (100, 13) (100,)\n",
    "print (Test_X.shape, Test_y.shape)"
   ]
  },
  {
   "cell_type": "markdown",
   "metadata": {},
   "source": [
    "Once you've properly imported the test set data, cleaned it, and put it into arrays, the following code should predict whether loans were approved using the classifier you trained on the training data as applied to the attributes in the testing data. It will output your predictions and then the actual values."
   ]
  },
  {
   "cell_type": "code",
   "execution_count": 21,
   "metadata": {},
   "outputs": [
    {
     "data": {
      "text/plain": [
       "(array([0, 1, 1, 1, 0, 0, 1, 1, 1, 0, 1, 1, 1, 1, 1, 1, 1, 1, 1, 1, 1, 1,\n",
       "        1, 1, 1, 1, 1, 1, 1, 0, 0, 1, 0, 1, 1, 1, 0, 0, 1, 1, 1, 1, 1, 0,\n",
       "        1, 1, 1, 1, 0, 1, 1, 0, 0, 1, 1, 1, 1, 1, 0, 1, 1, 0, 1, 0, 1, 0,\n",
       "        1, 0, 1, 1, 1, 1, 1, 1, 0, 1, 0, 1, 1, 1, 0, 1, 1, 1, 0, 1, 1, 1,\n",
       "        1, 1, 1, 0, 1, 1, 1, 1, 1, 1, 1, 0]),\n",
       " array([0, 1, 0, 1, 1, 0, 1, 1, 1, 0, 1, 1, 1, 1, 1, 1, 1, 0, 1, 1, 0, 0,\n",
       "        1, 1, 0, 0, 1, 1, 1, 1, 1, 1, 1, 1, 1, 1, 0, 1, 1, 1, 0, 1, 1, 0,\n",
       "        1, 1, 0, 1, 0, 1, 1, 0, 0, 1, 1, 1, 1, 1, 1, 1, 1, 0, 1, 0, 0, 0,\n",
       "        1, 1, 0, 0, 1, 1, 1, 1, 0, 1, 0, 0, 1, 1, 0, 1, 0, 1, 1, 1, 0, 1,\n",
       "        1, 1, 1, 1, 1, 1, 1, 1, 1, 1, 1, 0]))"
      ]
     },
     "execution_count": 21,
     "metadata": {},
     "output_type": "execute_result"
    }
   ],
   "source": [
    "#DO NOT EDIT THIS\n",
    "Test_y_predicted = classifier.predict(Test_X)\n",
    "\n",
    "Test_y_predicted, Test_y"
   ]
  },
  {
   "cell_type": "markdown",
   "metadata": {},
   "source": [
    "**(3a) A \"false positive\" is when the classifier predicts a 1 but the real value is a 0. A \"false negative\" is when the classifier predicts a 0 but the real value is a 1. In this case, a false positive means the classifier predicts that the person would be approved but they were actually denied, and a false negative means the classifier predicts that the person would be denied but they were actually approved.**\n",
    "\n",
    "**You could count up by hand how many true negatives, false negatives, false positives, and true positives you had with this classifier, but the [confusion_matrix](http://scikit-learn.org/stable/modules/generated/sklearn.metrics.confusion_matrix.html) function in sklearn creates a handy table of this for you. Use the confusion_matrix function in the box below to see how many of each you had.** (3 pts)"
   ]
  },
  {
   "cell_type": "code",
   "execution_count": 22,
   "metadata": {},
   "outputs": [
    {
     "data": {
      "text/plain": [
       "array([[15, 14],\n",
       "       [ 9, 62]])"
      ]
     },
     "execution_count": 22,
     "metadata": {},
     "output_type": "execute_result"
    }
   ],
   "source": [
    "# Use a confusion matrix here for Test_y and Test_y_predicted to see how many true neg, false neg, false pos, \n",
    "# and true pos you had.\n",
    "from sklearn.metrics import confusion_matrix\n",
    "\n",
    "confusion_matrix(Test_y,Test_y_predicted)"
   ]
  },
  {
   "cell_type": "code",
   "execution_count": 23,
   "metadata": {},
   "outputs": [
    {
     "name": "stdout",
     "output_type": "stream",
     "text": [
      "9 14 15 62\n"
     ]
    }
   ],
   "source": [
    "# Write the numbers of each in below. MAKE SURE you understand which cell in the confusion matrix has each of these.\n",
    "false_negative = 9     # predict:n, actual:y\n",
    "false_positive = 14    # predict:y, actual:n\n",
    "true_negative = 15     # predict:n, actual:n\n",
    "true_positive = 62     # predict:y, actual:y\n",
    "\n",
    "print (false_negative, false_positive, true_negative, true_positive)"
   ]
  },
  {
   "cell_type": "markdown",
   "metadata": {},
   "source": [
    "**(3b) How does a false positive in this situation hurt** ***the bank?*** (no more than 20 words). (3 pts)\n",
    "\n",
    "Note that we're using the len function here for grading purposes, just to quickly make sure you haven't gone over the word limit for each."
   ]
  },
  {
   "cell_type": "code",
   "execution_count": 24,
   "metadata": {},
   "outputs": [
    {
     "data": {
      "text/plain": [
       "14"
      ]
     },
     "execution_count": 24,
     "metadata": {},
     "output_type": "execute_result"
    }
   ],
   "source": [
    "len((\"The bank would have granted the loan but would possibly not get money back.\").split())"
   ]
  },
  {
   "cell_type": "markdown",
   "metadata": {},
   "source": [
    "**(3c) How does a false negative in this situation hurt** ***the bank?*** (no more than 20 words). (3 pts)"
   ]
  },
  {
   "cell_type": "code",
   "execution_count": 25,
   "metadata": {},
   "outputs": [
    {
     "data": {
      "text/plain": [
       "14"
      ]
     },
     "execution_count": 25,
     "metadata": {},
     "output_type": "execute_result"
    }
   ],
   "source": [
    "len((\"Less people getting loans from the bank means less profit from interest.\").split())"
   ]
  },
  {
   "cell_type": "markdown",
   "metadata": {},
   "source": [
    "**(3d) How does a false positive in this situation hurt** ***the customer?*** (no more than 20 words). (3 pts)"
   ]
  },
  {
   "cell_type": "code",
   "execution_count": 26,
   "metadata": {},
   "outputs": [
    {
     "data": {
      "text/plain": [
       "15"
      ]
     },
     "execution_count": 26,
     "metadata": {},
     "output_type": "execute_result"
    }
   ],
   "source": [
    "len((\"The person could fall into debt if they cannot pay back the loan in time.\").split())"
   ]
  },
  {
   "cell_type": "markdown",
   "metadata": {},
   "source": [
    "**(3e) How does a false negative in this situation hurt** ***the customer?*** (no more than 20 words). (3 pts)"
   ]
  },
  {
   "cell_type": "code",
   "execution_count": 27,
   "metadata": {},
   "outputs": [
    {
     "data": {
      "text/plain": [
       "16"
      ]
     },
     "execution_count": 27,
     "metadata": {},
     "output_type": "execute_result"
    }
   ],
   "source": [
    "len((\"The customer would not get the loan when they could have gotten it and needed it.\").split())"
   ]
  },
  {
   "cell_type": "markdown",
   "metadata": {},
   "source": [
    "**(4) In the following box, write code to calculate and print out your \"accuracy\" for the model. This is just the proportion of how many the classifier got correct. You could do it manually if you want, but there's an easy [function](http://scikit-learn.org/stable/modules/generated/sklearn.metrics.accuracy_score.html) built into sklearn to do it.** (5 pts)"
   ]
  },
  {
   "cell_type": "code",
   "execution_count": 28,
   "metadata": {},
   "outputs": [
    {
     "data": {
      "text/plain": [
       "0.77"
      ]
     },
     "execution_count": 28,
     "metadata": {},
     "output_type": "execute_result"
    }
   ],
   "source": [
    "#CALCULATE AND PRINT OUT YOUR ACCURACY SCORE\n",
    "from sklearn.metrics import accuracy_score\n",
    "\n",
    "accuracy_score(Test_y, Test_y_predicted)"
   ]
  },
  {
   "cell_type": "markdown",
   "metadata": {},
   "source": [
    "Having decent accuracy is nice, but it doesn't mean much on its own. **(5) Go back to the test data spreadsheet - counting only rows with no missing values, what would your accuracy have been if you just guessed that every loan would be approved?** (5 pts)"
   ]
  },
  {
   "cell_type": "code",
   "execution_count": 29,
   "metadata": {},
   "outputs": [
    {
     "data": {
      "text/plain": [
       "0.71"
      ]
     },
     "execution_count": 29,
     "metadata": {},
     "output_type": "execute_result"
    }
   ],
   "source": [
    "#Your response\n",
    "import numpy as np\n",
    "Test_all_y = np.ones((100,), dtype=int)\n",
    "\n",
    "accuracy_score(Test_y, Test_all_y)\n"
   ]
  },
  {
   "cell_type": "markdown",
   "metadata": {},
   "source": [
    "*Sanity check - if your classifier is getting lower accuracy than you got just by guessing everything would be approved, you probably made a mistake in your classifier somewhere. If it's a little bit better, you're on the right track.*\n",
    "\n",
    "**(6) In the box below, create a classifier for the test data based on the training data using the exact same steps, except this time use a decision tree classifier from sklearn.tree instead of a GaussianNB classifier. Print out your predicted values, the real values, and your overall accuracy.** (15 pts)"
   ]
  },
  {
   "cell_type": "code",
   "execution_count": 30,
   "metadata": {},
   "outputs": [
    {
     "name": "stdout",
     "output_type": "stream",
     "text": [
      "Predicted:\n",
      " [0 1 0 1 0 0 0 1 1 0 0 1 1 1 1 1 1 1 1 1 1 1 1 1 1 1 1 1 0 0 1 1 0 1 1 0 0\n",
      " 1 1 1 1 1 0 0 1 1 0 0 0 1 1 0 0 1 0 1 1 1 1 0 1 0 1 0 1 0 0 1 1 1 1 1 1 1\n",
      " 0 1 0 1 1 1 0 1 1 1 1 1 1 0 1 1 0 1 1 1 1 1 1 0 1 1]\n",
      "Actual:\n",
      " [0 1 0 1 1 0 1 1 1 0 1 1 1 1 1 1 1 0 1 1 0 0 1 1 0 0 1 1 1 1 1 1 1 1 1 1 0\n",
      " 1 1 1 0 1 1 0 1 1 0 1 0 1 1 0 0 1 1 1 1 1 1 1 1 0 1 0 0 0 1 1 0 0 1 1 1 1\n",
      " 0 1 0 0 1 1 0 1 0 1 1 1 0 1 1 1 1 1 1 1 1 1 1 1 1 0]\n",
      "Accuracy:  0.72\n"
     ]
    }
   ],
   "source": [
    "# This code should output predicted values, real values, and overall accuracy using a GaussianNB classifier\n",
    "\n",
    "from sklearn.tree import DecisionTreeClassifier\n",
    "tree_classifier = DecisionTreeClassifier()\n",
    "tree_classifier.fit(Train_X,Train_y)\n",
    "\n",
    "Test_y_predicted_tree = tree_classifier.predict(Test_X)\n",
    "\n",
    "print(\"Predicted:\\n\", Test_y_predicted_tree, end=\"\\n\")\n",
    "print(\"Actual:\\n\", Test_y, end=\"\\n\")\n",
    "print(\"Accuracy: \", accuracy_score(Test_y, Test_y_predicted_tree))\n"
   ]
  },
  {
   "cell_type": "markdown",
   "metadata": {},
   "source": [
    "(OPTIONAL, 5 bonus pts) **A \"Pipeline\" in sklearn is a simpler way to create and organize classifiers. If you'd like to learn more about what these advantages are, [this](https://www.youtube.com/watch?v=URdnFlZnlaE) tutorial does a decent job explaining them. We will be using Pipelines in future assignments to simplify code. If you'd like to get a head start, try replacing your code from part (6) above with a Pipeline. There are tons of different ways to format a Pipeline, but for simplicity please use the second format on the slide presented in the above tutorial at 14:30 (the one that starts with `Pipeline([` ). Note that this Pipeline should have very few steps; you just have to select the numeric data, deal with missing values, separate it into features and class variables, and then train your classifier.**"
   ]
  },
  {
   "cell_type": "code",
   "execution_count": 31,
   "metadata": {},
   "outputs": [],
   "source": [
    "# This is for the Pipeline code for the OPTIONAL part above\n",
    "# Write your Pipeline code here"
   ]
  },
  {
   "cell_type": "code",
   "execution_count": 32,
   "metadata": {},
   "outputs": [],
   "source": [
    "# This is for the Pipeline code for the OPTIONAL part above\n",
    "\n",
    "# In order to prove that your Pipeline does the same thing as your code from part (6),\n",
    "# print out your predictions from the code in part (6) in this box followed by the predictions from\n",
    "# your pipeline. The predictions should be identical.\n"
   ]
  },
  {
   "cell_type": "markdown",
   "metadata": {},
   "source": [
    "**(7) Using the structure from part (6) and whichever type of classifier you like, write code to...**\n",
    "\n",
    "**(a) develop a classifier based on the training data csv** (5 pts)\n",
    "\n",
    "**(b) import the 'predictiondata.csv' file** (5 pts)\n",
    "\n",
    "**(c) make predictions for these new instances and print them out here** (10 pts)\n",
    "\n",
    "Note that you can't calculate accuracy for the predictiondata.csv predictions because we don't actually know whether these applications were approved or denied. The purpose of this exercise is just to have a script that can automatically approve or deny applications without a human even having to open the file."
   ]
  },
  {
   "cell_type": "code",
   "execution_count": 33,
   "metadata": {},
   "outputs": [
    {
     "name": "stdout",
     "output_type": "stream",
     "text": [
      "Predicted:\n",
      " [1 0 0 1 0 0 0 0 1 1 1 0 0 0 0 0 0 1 0 0 0 0 1 0 0 0 0 0 0 1 0 0 1 0 0 0 0\n",
      " 0 0 0 0 0 0 0 0 0 0 0 0 0 0 0 0 0 0 0 0 0 0 0 0 0 0 0 0 0 0 0 0 0 0 1 0 0\n",
      " 0 0 0 0 0 0 0 0 1 1 0 1 0 0 0 0 0 0 0 0 0 0 0 0 0 0 1 0 0 0 0 0 0 1 0 0 0\n",
      " 0 0 0 0 0 1 0 0 0 0 0 1 0 1 0 0 0 0 0 0 0 1 0 0 0 0 0 0 0 0 0 0 0 0 0 1 0\n",
      " 0 0 0 0 0 0 0 1 0 0 0 0 0 0 0 0 0 0 0 0 0 0 1 1 0 0 0 0 0 0 0 0 1 0 0 0 0\n",
      " 1 0 0 0 0 0 0 0 0 0 1 0 0 0 0 0 0 0 0 0 0 1 0 0 0 0 0 0 0 0 0 0 0 0 0 0 0\n",
      " 0 0 0 1 0 0 1 0 0 1 0 0 1 1 0 0 0 1 1 0 1 0 1 0 0 1 0 0 0 0 0 0 0 0 0 1 0\n",
      " 0 0 0 0 0 0 0 0 0 0 1 1 1 0 0 0 0 0 0 0 0 0 0 1 0 0 0 0 0 0]\n"
     ]
    }
   ],
   "source": [
    "### Your code goes here\n",
    "from sklearn.gaussian_process import GaussianProcessClassifier\n",
    "\n",
    "## a\n",
    "my_classifier = GaussianProcessClassifier()\n",
    "my_classifier.fit(Train_X, Train_y)\n",
    "\n",
    "\n",
    "## b\n",
    "predictiondata = pandas.read_csv(\"predictiondata.csv\", header = 0)\n",
    "predictiondata = predictiondata._get_numeric_data().dropna()\n",
    "\n",
    "## c\n",
    "Test_prediction = my_classifier.predict(predictiondata)\n",
    "print(\"Predicted:\\n\", Test_prediction)\n",
    "\n",
    "# for clarity on pt. d\n",
    "#for i, row in predictiondata.iterrows():\n",
    "#    print(\"PREDICTION: \", Test_prediction[i], \"\\n\", row, \"\\n\")\n"
   ]
  },
  {
   "cell_type": "markdown",
   "metadata": {},
   "source": [
    "**(d) Look at the predictions you've made for the predictiondata.csv file. Find three where you're pretty sure your classifier got it wrong. List their IDs below, and explain why you think these loans really should or shouldn't get approved, contrary to the prediction of your classifier.** Use no more than 25 words per loan to explain. (10 pts)"
   ]
  },
  {
   "cell_type": "code",
   "execution_count": 34,
   "metadata": {},
   "outputs": [
    {
     "name": "stdout",
     "output_type": "stream",
     "text": [
      "21\n",
      "18\n",
      "21\n"
     ]
    }
   ],
   "source": [
    "#1. LP001203\n",
    "print (len((\"They SHOULD: The person's income to loan ratio is very high, has education, good credit history, and lives in semiurban place.\").split()))\n",
    "#2. LP001450\n",
    "print (len((\"They SHOULD: The person has good credit history, high applicant income, semiurban area, and loan amount is low.\").split()))\n",
    "#3. LP001607\n",
    "print (len((\"They SHOULD NOT. The person has bad credit history, no personal income [coapplicant income is necessary], not married, and not educated.\").split()))\n"
   ]
  },
  {
   "cell_type": "markdown",
   "metadata": {},
   "source": [
    "**(e) In this assignment, we have tried to predict whether a loan** ***would*** **be approved or denied, but this is not the same thing as whether a loan** ***should*** **be approved or denied. If we wanted to look at whether a loan** ***should be approved or denied***, **what might we want to build a classifier to predict?** (no more than 20 words) (5 pts)"
   ]
  },
  {
   "cell_type": "code",
   "execution_count": 1,
   "metadata": {
    "scrolled": false
   },
   "outputs": [
    {
     "data": {
      "text/plain": [
       "18"
      ]
     },
     "execution_count": 1,
     "metadata": {},
     "output_type": "execute_result"
    }
   ],
   "source": [
    "len((\"They need a classifier that will measure whether the customer will be able to pay back the loan.\").split())"
   ]
  },
  {
   "cell_type": "markdown",
   "metadata": {},
   "source": [
    "**(f) What factors do you think might be worthwhile to consider when approving or denying loans, but weren't in this dataset?** (20 words or less) (5 pts)"
   ]
  },
  {
   "cell_type": "code",
   "execution_count": 36,
   "metadata": {},
   "outputs": [
    {
     "data": {
      "text/plain": [
       "22"
      ]
     },
     "execution_count": 36,
     "metadata": {},
     "output_type": "execute_result"
    }
   ],
   "source": [
    "len((\"Age. Too young the person might be financially unstable, too old and the of time before the impossibility of repayment is thin.\").split())"
   ]
  },
  {
   "cell_type": "markdown",
   "metadata": {},
   "source": [
    "Once you've completed all of the above, you're done with assignment 1! You might want to double check that your code works like you expect. You can do this by choosing \"Restart & Run All\" in the Kernel menu. If it outputs errors, you may want to go back and check what you've done.\n",
    "\n",
    "Once you think everything is set, please download your final notebook as HTML, and submit to the A1 folder on the Canvas site with name `[yourandrewid]_haiif18a[assignmentnumber]`, e.g., `jseering_haiif18a1.`"
   ]
  }
 ],
 "metadata": {
  "kernelspec": {
   "display_name": "Python 3",
   "language": "python",
   "name": "python3"
  },
  "language_info": {
   "codemirror_mode": {
    "name": "ipython",
    "version": 3
   },
   "file_extension": ".py",
   "mimetype": "text/x-python",
   "name": "python",
   "nbconvert_exporter": "python",
   "pygments_lexer": "ipython3",
   "version": "3.6.6"
  }
 },
 "nbformat": 4,
 "nbformat_minor": 2
}
